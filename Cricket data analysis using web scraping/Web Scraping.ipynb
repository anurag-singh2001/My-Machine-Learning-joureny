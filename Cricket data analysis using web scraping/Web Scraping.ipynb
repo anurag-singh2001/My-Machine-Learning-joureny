{
 "cells": [
  {
   "cell_type": "code",
   "execution_count": 1,
   "metadata": {},
   "outputs": [],
   "source": [
    "import pandas as pd\n",
    "import tqdm"
   ]
  },
  {
   "cell_type": "code",
   "execution_count": 2,
   "metadata": {},
   "outputs": [],
   "source": [
    "url = 'https://stats.espncricinfo.com/ci/engine/stats/index.html?class={};home_or_away=1;home_or_away=2;home_or_away=3;page={};result=1;result=2;result=3;result=4;template=results;type={}'"
   ]
  },
  {
   "cell_type": "code",
   "execution_count": 3,
   "metadata": {},
   "outputs": [],
   "source": [
    "def scrap_data(formatt, style, n_pages):\n",
    "    data = []\n",
    "    for page in tqdm.tqdm(range(1, n_pages)):\n",
    "        new_url = url.format(formatt, page, style)\n",
    "        df = pd.read_html(new_url)[2]\n",
    "        data.append(df)\n",
    "    data_ = pd.concat(data)\n",
    "    return data_\n"
   ]
  },
  {
   "cell_type": "code",
   "execution_count": 4,
   "metadata": {},
   "outputs": [
    {
     "name": "stderr",
     "output_type": "stream",
     "text": [
      "100%|██████████████████████████████████████████████████████████████████████████████████| 54/54 [02:55<00:00,  3.24s/it]\n",
      "100%|██████████████████████████████████████████████████████████████████████████████████| 54/54 [02:54<00:00,  3.22s/it]\n",
      "100%|██████████████████████████████████████████████████████████████████████████████████| 54/54 [02:54<00:00,  3.24s/it]\n"
     ]
    }
   ],
   "source": [
    "odi_batting_data = scrap_data(2, 'batting', 55)\n",
    "odi_batting_data.to_csv('data/odi_batting_data.csv')\n",
    "odi_bowling_data = scrap_data(2, 'bowling', 55)\n",
    "odi_bowling_data.to_csv('data/odi_bowling_data.csv')\n",
    "odi_fielding_data = scrap_data(2, 'fielding', 55)\n",
    "odi_fielding_data.to_csv('data/odi_fielding_data.csv')"
   ]
  },
  {
   "cell_type": "code",
   "execution_count": null,
   "metadata": {},
   "outputs": [],
   "source": []
  }
 ],
 "metadata": {
  "kernelspec": {
   "display_name": "Python 3",
   "language": "python",
   "name": "python3"
  },
  "language_info": {
   "codemirror_mode": {
    "name": "ipython",
    "version": 3
   },
   "file_extension": ".py",
   "mimetype": "text/x-python",
   "name": "python",
   "nbconvert_exporter": "python",
   "pygments_lexer": "ipython3",
   "version": "3.8.5"
  }
 },
 "nbformat": 4,
 "nbformat_minor": 4
}
