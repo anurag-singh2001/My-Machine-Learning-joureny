{
 "cells": [
  {
   "cell_type": "code",
   "execution_count": 1,
   "metadata": {},
   "outputs": [],
   "source": [
    "import tweepy\n",
    "from textblob import TextBlob\n",
    "import matplotlib.pyplot as plt"
   ]
  },
  {
   "cell_type": "code",
   "execution_count": 2,
   "metadata": {},
   "outputs": [],
   "source": [
    "consumer_key = \"8AO6OU5ubyi4XO47b1C7Sjdlz\"\n",
    "consumer_sec = \"FS1usPrfPolvjLXbwGka5N8TWkOZhUsdxGmmTwuO016koesUSt\"\n",
    "access_token = \"1151573806680592384-OUFeUtpsRFZM6jQxl1AG99NEjlY0Kt\"\n",
    "access_token_sec = \"KKHmkHkDGVaDof8XK4fKKI52DmNl4vZlaXnx85WRfd4Lr\""
   ]
  },
  {
   "cell_type": "code",
   "execution_count": 3,
   "metadata": {},
   "outputs": [],
   "source": [
    "auth=tweepy.OAuthHandler(consumer_key,consumer_sec)\n",
    "auth.set_access_token(access_token,access_token_sec)\n",
    "api_connect=tweepy.API(auth)"
   ]
  },
  {
   "cell_type": "code",
   "execution_count": 5,
   "metadata": {},
   "outputs": [],
   "source": [
    "tweet_data=api_connect.search_tweets('India',count=100)"
   ]
  },
  {
   "cell_type": "code",
   "execution_count": 12,
   "metadata": {},
   "outputs": [
    {
     "name": "stdout",
     "output_type": "stream",
     "text": [
      "neutral\n",
      "negative\n",
      "RT @PPSbtp: Protesters stop Punjab CM Charanjit Singh Channi's car during interview with India Today's @ashokasinghal2, he gets down to spe…\n",
      "positive\n",
      "positive\n",
      "negative\n",
      "RT @KanchanGupta: So it was indeed a plot to compromise the security of the PM of #India\n",
      "Dumb acolytes of @RahulGandhi are gleefully spilli…\n",
      "neutral\n",
      "neutral\n",
      "neutral\n",
      "positive\n",
      "neutral\n",
      "positive\n",
      "neutral\n",
      "neutral\n",
      "positive\n",
      "neutral\n",
      "positive\n",
      "neutral\n",
      "neutral\n",
      "positive\n",
      "neutral\n",
      "positive\n",
      "neutral\n",
      "positive\n",
      "positive\n",
      "negative\n",
      "PE firm GEF Capital elevates another India exec as managing director #privateequity  https://t.co/lok2HHNmZR\n",
      "neutral\n",
      "neutral\n",
      "positive\n",
      "neutral\n",
      "negative\n",
      "RT @PPSbtp: Protesters stop Punjab CM Charanjit Singh Channi's car during interview with India Today's @ashokasinghal2, he gets down to spe…\n",
      "positive\n",
      "neutral\n",
      "positive\n",
      "neutral\n",
      "negative\n",
      "RT @tacbicin: @cbic_india We know u r deaf to our demands &amp; doesn’t care about TAs rights but r u blind too? @IncomeTaxIndia still giving d…\n",
      "positive\n",
      "positive\n",
      "neutral\n",
      "neutral\n",
      "neutral\n",
      "neutral\n",
      "neutral\n",
      "neutral\n",
      "positive\n",
      "neutral\n",
      "neutral\n",
      "neutral\n",
      "positive\n",
      "neutral\n",
      "positive\n",
      "neutral\n",
      "neutral\n",
      "positive\n",
      "negative\n",
      "RT @H_D_Devegowda: It is very unfortunate that there is a controversy over the security of the Prime Minister. At no point should we be com…\n",
      "negative\n",
      "RT @ajitbhinder: Punjab.\n",
      "All 'Guru ke Sikh' are with PM of India.\n",
      "No genuine Sikh can ever be a Gandhi Family Piddi? \n",
      "\n",
      "Can Islamists and Co…\n",
      "neutral\n",
      "neutral\n",
      "neutral\n",
      "neutral\n",
      "neutral\n",
      "positive\n",
      "neutral\n",
      "neutral\n",
      "neutral\n",
      "negative\n",
      "@satyakumar_y @narendramodi Need to arrest Punjab State DGP immidiately because I think he has plan to kill PM OF I… https://t.co/yiJrnmEZp1\n",
      "positive\n",
      "neutral\n",
      "neutral\n",
      "neutral\n",
      "neutral\n",
      "positive\n",
      "neutral\n",
      "positive\n",
      "positive\n",
      "positive\n",
      "positive\n",
      "neutral\n",
      "positive\n",
      "negative\n",
      "After Lt. Shree Jawahar Lal Nehru ji, failed assassination attempt done on @narendramodi ji\n",
      "\n",
      "We wish you a long and… https://t.co/uJlL9KwLx0\n",
      "neutral\n",
      "neutral\n",
      "negative\n",
      "RT @IndiaToday: Protesters stop Punjab CM Charanjit Singh Channi's car during interview with India Today's @ashokasinghal2, he gets down to…\n",
      "positive\n",
      "neutral\n",
      "neutral\n",
      "neutral\n",
      "neutral\n",
      "neutral\n",
      "positive\n",
      "negative\n",
      "RT @H_D_Devegowda: It is very unfortunate that there is a controversy over the security of the Prime Minister. At no point should we be com…\n",
      "negative\n",
      "RT @vijaygajera: Will you stop funding IPSMF?\n",
      "\n",
      "It's IPSMF funded leftist media who has portrayed a bad image of PM by their propaganda repo…\n",
      "neutral\n",
      "positive\n",
      "neutral\n",
      "positive\n",
      "neutral\n",
      "neutral\n",
      "positive\n",
      "neutral\n",
      "negative\n",
      "India reminds us she’s the richest on the TL everyday\n"
     ]
    },
    {
     "data": {
      "image/png": "[encoded data removed]",
      "text/plain": [
       "<Figure size 432x288 with 1 Axes>"
      ]
     },
     "metadata": {
      "needs_background": "light"
     },
     "output_type": "display_data"
    }
   ],
   "source": [
    "pos=0\n",
    "neg=0\n",
    "neu=0\n",
    "\n",
    "for tweet in tweet_data:\n",
    "   \n",
    "    analysis=TextBlob(tweet.text)\n",
    "    #print(analysis.sentiment)\n",
    "    if analysis.sentiment.polarity>0:\n",
    "        print(\"positive\")\n",
    "        pos=pos+1\n",
    "    elif analysis.sentiment.polarity<0:\n",
    "        print(\"negative\")\n",
    "        neg=neg+1\n",
    "        print(tweet.text)\n",
    "    else:\n",
    "        print(\"neutral\")\n",
    "        neu=neu+1\n",
    "\n",
    "plt.xlabel(\"tags\")\n",
    "plt.ylabel(\"polarity\")\n",
    "plt.bar(['pos','neg','neu'],[pos,neg,neu])\n",
    "plt.show()"
   ]
  },
  {
   "cell_type": "code",
   "execution_count": null,
   "metadata": {},
   "outputs": [],
   "source": []
  }
 ],
 "metadata": {
  "kernelspec": {
   "display_name": "Python 3",
   "language": "python",
   "name": "python3"
  },
  "language_info": {
   "codemirror_mode": {
    "name": "ipython",
    "version": 3
   },
   "file_extension": ".py",
   "mimetype": "text/x-python",
   "name": "python",
   "nbconvert_exporter": "python",
   "pygments_lexer": "ipython3",
   "version": "3.8.5"
  }
 },
 "nbformat": 4,
 "nbformat_minor": 4
}
